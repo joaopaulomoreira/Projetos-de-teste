{
  "nbformat": 4,
  "nbformat_minor": 0,
  "metadata": {
    "colab": {
      "name": "SamsungOceanLab-240122.ipynb",
      "provenance": [],
      "authorship_tag": "ABX9TyPdjWlvYSqI+EgsR6VHkyPz",
      "include_colab_link": true
    },
    "kernelspec": {
      "name": "python3",
      "display_name": "Python 3"
    },
    "language_info": {
      "name": "python"
    }
  },
  "cells": [
    {
      "cell_type": "markdown",
      "metadata": {
        "id": "view-in-github",
        "colab_type": "text"
      },
      "source": [
        "<a href=\"https://colab.research.google.com/github/joaopaulomoreira/Projetos-de-teste/blob/master/SamsungOceanLab_240122.ipynb\" target=\"_parent\"><img src=\"https://colab.research.google.com/assets/colab-badge.svg\" alt=\"Open In Colab\"/></a>"
      ]
    },
    {
      "cell_type": "code",
      "execution_count": null,
      "metadata": {
        "id": "DsD0uG81HXL9"
      },
      "outputs": [],
      "source": [
        ""
      ]
    }
  ]
}